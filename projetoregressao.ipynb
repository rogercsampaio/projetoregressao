{
  "cells": [
    {
      "cell_type": "markdown",
      "source": [
        "## **Criando Modelos de Regressao Linear**"
      ],
      "metadata": {
        "nteract": {
          "transient": {
            "deleting": false
          }
        }
      }
    },
    {
      "cell_type": "code",
      "source": [
        "import pandas as pd\r\n",
        "from sklearn.metrics import mean_squared_error\r\n",
        "from sklearn.model_selection import train_test_split\r\n",
        "from sklearn.linear_model import LinearRegression\r\n",
        "from sklearn.metrics import r2_score\r\n",
        "import statsmodels.api as sm"
      ],
      "outputs": [],
      "execution_count": 68,
      "metadata": {
        "jupyter": {
          "source_hidden": false,
          "outputs_hidden": false
        },
        "nteract": {
          "transient": {
            "deleting": false
          }
        },
        "gather": {
          "logged": 1649726637522
        }
      }
    },
    {
      "cell_type": "code",
      "source": [
        "alunos = pd.read_csv('student-mat.csv')"
      ],
      "outputs": [],
      "execution_count": 41,
      "metadata": {
        "jupyter": {
          "source_hidden": false,
          "outputs_hidden": false
        },
        "nteract": {
          "transient": {
            "deleting": false
          }
        },
        "gather": {
          "logged": 1649723298320
        }
      }
    },
    {
      "cell_type": "markdown",
      "source": [
        "**Análise Exploratória**"
      ],
      "metadata": {
        "nteract": {
          "transient": {
            "deleting": false
          }
        }
      }
    },
    {
      "cell_type": "code",
      "source": [
        "alunos.shape"
      ],
      "outputs": [],
      "execution_count": null,
      "metadata": {
        "jupyter": {
          "source_hidden": false,
          "outputs_hidden": false
        },
        "nteract": {
          "transient": {
            "deleting": false
          }
        }
      }
    },
    {
      "cell_type": "code",
      "source": [
        "alunos.columns"
      ],
      "outputs": [],
      "execution_count": null,
      "metadata": {
        "jupyter": {
          "source_hidden": false,
          "outputs_hidden": false
        },
        "nteract": {
          "transient": {
            "deleting": false
          }
        }
      }
    },
    {
      "cell_type": "code",
      "source": [
        "alunos.columns"
      ],
      "outputs": [],
      "execution_count": null,
      "metadata": {
        "jupyter": {
          "source_hidden": false,
          "outputs_hidden": false
        },
        "nteract": {
          "transient": {
            "deleting": false
          }
        }
      }
    },
    {
      "cell_type": "code",
      "source": [
        "alunos['age'].describe()"
      ],
      "outputs": [
        {
          "output_type": "execute_result",
          "execution_count": 3,
          "data": {
            "text/plain": "count    395.000000\nmean      16.696203\nstd        1.276043\nmin       15.000000\n25%       16.000000\n50%       17.000000\n75%       18.000000\nmax       22.000000\nName: age, dtype: float64"
          },
          "metadata": {}
        }
      ],
      "execution_count": 3,
      "metadata": {
        "jupyter": {
          "source_hidden": false,
          "outputs_hidden": false
        },
        "nteract": {
          "transient": {
            "deleting": false
          }
        },
        "gather": {
          "logged": 1648857254976
        }
      }
    },
    {
      "cell_type": "code",
      "source": [
        "alunos['absences'].describe()"
      ],
      "outputs": [
        {
          "output_type": "execute_result",
          "execution_count": 4,
          "data": {
            "text/plain": "count    395.000000\nmean       5.708861\nstd        8.003096\nmin        0.000000\n25%        0.000000\n50%        4.000000\n75%        8.000000\nmax       75.000000\nName: absences, dtype: float64"
          },
          "metadata": {}
        }
      ],
      "execution_count": 4,
      "metadata": {
        "jupyter": {
          "source_hidden": false,
          "outputs_hidden": false
        },
        "nteract": {
          "transient": {
            "deleting": false
          }
        },
        "gather": {
          "logged": 1648857365662
        }
      }
    },
    {
      "cell_type": "markdown",
      "source": [
        "**Modelagem**"
      ],
      "metadata": {
        "nteract": {
          "transient": {
            "deleting": false
          }
        }
      }
    },
    {
      "cell_type": "code",
      "source": [
        "X = alunos[['age','absences','G1','G2']]\r\n",
        "y = alunos[['G3']]"
      ],
      "outputs": [],
      "execution_count": 42,
      "metadata": {
        "jupyter": {
          "source_hidden": false,
          "outputs_hidden": false
        },
        "nteract": {
          "transient": {
            "deleting": false
          }
        },
        "gather": {
          "logged": 1649723302529
        }
      }
    },
    {
      "cell_type": "code",
      "source": [
        "X"
      ],
      "outputs": [
        {
          "output_type": "execute_result",
          "execution_count": 30,
          "data": {
            "text/plain": "     age  absences  G1  G2\n0     18         6   5   6\n1     17         4   5   5\n2     15        10   7   8\n3     15         2  15  14\n4     16         4   6  10\n..   ...       ...  ..  ..\n390   20        11   9   9\n391   17         3  14  16\n392   21         3  10   8\n393   18         0  11  12\n394   19         5   8   9\n\n[395 rows x 4 columns]",
            "text/html": "<div>\n<style scoped>\n    .dataframe tbody tr th:only-of-type {\n        vertical-align: middle;\n    }\n\n    .dataframe tbody tr th {\n        vertical-align: top;\n    }\n\n    .dataframe thead th {\n        text-align: right;\n    }\n</style>\n<table border=\"1\" class=\"dataframe\">\n  <thead>\n    <tr style=\"text-align: right;\">\n      <th></th>\n      <th>age</th>\n      <th>absences</th>\n      <th>G1</th>\n      <th>G2</th>\n    </tr>\n  </thead>\n  <tbody>\n    <tr>\n      <th>0</th>\n      <td>18</td>\n      <td>6</td>\n      <td>5</td>\n      <td>6</td>\n    </tr>\n    <tr>\n      <th>1</th>\n      <td>17</td>\n      <td>4</td>\n      <td>5</td>\n      <td>5</td>\n    </tr>\n    <tr>\n      <th>2</th>\n      <td>15</td>\n      <td>10</td>\n      <td>7</td>\n      <td>8</td>\n    </tr>\n    <tr>\n      <th>3</th>\n      <td>15</td>\n      <td>2</td>\n      <td>15</td>\n      <td>14</td>\n    </tr>\n    <tr>\n      <th>4</th>\n      <td>16</td>\n      <td>4</td>\n      <td>6</td>\n      <td>10</td>\n    </tr>\n    <tr>\n      <th>...</th>\n      <td>...</td>\n      <td>...</td>\n      <td>...</td>\n      <td>...</td>\n    </tr>\n    <tr>\n      <th>390</th>\n      <td>20</td>\n      <td>11</td>\n      <td>9</td>\n      <td>9</td>\n    </tr>\n    <tr>\n      <th>391</th>\n      <td>17</td>\n      <td>3</td>\n      <td>14</td>\n      <td>16</td>\n    </tr>\n    <tr>\n      <th>392</th>\n      <td>21</td>\n      <td>3</td>\n      <td>10</td>\n      <td>8</td>\n    </tr>\n    <tr>\n      <th>393</th>\n      <td>18</td>\n      <td>0</td>\n      <td>11</td>\n      <td>12</td>\n    </tr>\n    <tr>\n      <th>394</th>\n      <td>19</td>\n      <td>5</td>\n      <td>8</td>\n      <td>9</td>\n    </tr>\n  </tbody>\n</table>\n<p>395 rows × 4 columns</p>\n</div>"
          },
          "metadata": {}
        }
      ],
      "execution_count": 30,
      "metadata": {
        "jupyter": {
          "source_hidden": false,
          "outputs_hidden": false
        },
        "nteract": {
          "transient": {
            "deleting": false
          }
        },
        "gather": {
          "logged": 1648858239290
        }
      }
    },
    {
      "cell_type": "code",
      "source": [
        "X_train, X_test, y_train, y_test = train_test_split(X, y, test_size=0.30, random_state=42)"
      ],
      "outputs": [],
      "execution_count": 43,
      "metadata": {
        "jupyter": {
          "source_hidden": false,
          "outputs_hidden": false
        },
        "nteract": {
          "transient": {
            "deleting": false
          }
        },
        "gather": {
          "logged": 1649723305782
        }
      }
    },
    {
      "cell_type": "code",
      "source": [
        "print('Tamanho da base: %d' % X.shape[0])"
      ],
      "outputs": [
        {
          "output_type": "stream",
          "name": "stdout",
          "text": "Tamanho da base: 395\n"
        }
      ],
      "execution_count": 51,
      "metadata": {
        "jupyter": {
          "source_hidden": false,
          "outputs_hidden": false
        },
        "nteract": {
          "transient": {
            "deleting": false
          }
        },
        "gather": {
          "logged": 1649723444552
        }
      }
    },
    {
      "cell_type": "code",
      "source": [
        "print('Quantidade de registros para treino: %d' % X_train.shape[0])"
      ],
      "outputs": [
        {
          "output_type": "stream",
          "name": "stdout",
          "text": "Quantidade de registros para treino: 276\n"
        }
      ],
      "execution_count": 55,
      "metadata": {
        "jupyter": {
          "source_hidden": false,
          "outputs_hidden": false
        },
        "nteract": {
          "transient": {
            "deleting": false
          }
        },
        "gather": {
          "logged": 1649723500926
        }
      }
    },
    {
      "cell_type": "code",
      "source": [
        "print('Quantidade de registros para teste: %d' % X_test.shape[0])"
      ],
      "outputs": [
        {
          "output_type": "stream",
          "name": "stdout",
          "text": "Quantidade de registros para teste: 119\n"
        }
      ],
      "execution_count": 54,
      "metadata": {
        "jupyter": {
          "source_hidden": false,
          "outputs_hidden": false
        },
        "nteract": {
          "transient": {
            "deleting": false
          }
        },
        "gather": {
          "logged": 1649723499940
        }
      }
    },
    {
      "cell_type": "code",
      "source": [
        "modelo = LinearRegression().fit(X_train, y_train)"
      ],
      "outputs": [],
      "execution_count": 56,
      "metadata": {
        "jupyter": {
          "source_hidden": false,
          "outputs_hidden": false
        },
        "nteract": {
          "transient": {
            "deleting": false
          }
        },
        "gather": {
          "logged": 1649723541709
        }
      }
    },
    {
      "cell_type": "markdown",
      "source": [
        "**Interpretação do Modelo**"
      ],
      "metadata": {
        "nteract": {
          "transient": {
            "deleting": false
          }
        }
      }
    },
    {
      "cell_type": "code",
      "source": [
        "previsoes = modelo.predict(X_test)"
      ],
      "outputs": [],
      "execution_count": 59,
      "metadata": {
        "jupyter": {
          "source_hidden": false,
          "outputs_hidden": false
        },
        "nteract": {
          "transient": {
            "deleting": false
          }
        },
        "gather": {
          "logged": 1649723597982
        }
      }
    },
    {
      "cell_type": "code",
      "source": [
        "MSE = mean_squared_error(y_test,previsoes)\r\n",
        "print('%.2f' % MSE)"
      ],
      "outputs": [
        {
          "output_type": "stream",
          "name": "stdout",
          "text": "4.27\n"
        }
      ],
      "execution_count": 61,
      "metadata": {
        "jupyter": {
          "source_hidden": false,
          "outputs_hidden": false
        },
        "nteract": {
          "transient": {
            "deleting": false
          }
        },
        "gather": {
          "logged": 1649723629851
        }
      }
    },
    {
      "cell_type": "code",
      "source": [
        "#R2\r\n",
        "r2 = r2_score(y_test, previsoes)\r\n",
        "print('%.2f' % r2)"
      ],
      "outputs": [
        {
          "output_type": "stream",
          "name": "stdout",
          "text": "0.81\n"
        }
      ],
      "execution_count": 65,
      "metadata": {
        "jupyter": {
          "source_hidden": false,
          "outputs_hidden": false
        },
        "nteract": {
          "transient": {
            "deleting": false
          }
        },
        "gather": {
          "logged": 1649725314642
        }
      }
    },
    {
      "cell_type": "code",
      "source": [
        "def adjusted_r2(y_test, y_pred,X_train):\r\n",
        "    \r\n",
        "  from sklearn.metrics import r2_score\r\n",
        "\r\n",
        "  adj_r2 = (1 - ((1 - r2_score(y_test, y_pred)) * (len(y_test) - 1)) / \r\n",
        "          (len(y_test) - X_train.shape[1] - 1))\r\n",
        "    \r\n",
        "  return adj_r2"
      ],
      "outputs": [],
      "execution_count": 66,
      "metadata": {
        "jupyter": {
          "source_hidden": false,
          "outputs_hidden": false
        },
        "nteract": {
          "transient": {
            "deleting": false
          }
        },
        "gather": {
          "logged": 1649726022175
        }
      }
    },
    {
      "cell_type": "code",
      "source": [
        "adjusted_r2(y_test,previsoes,X_train)"
      ],
      "outputs": [
        {
          "output_type": "execute_result",
          "execution_count": 67,
          "data": {
            "text/plain": "0.7991194322255301"
          },
          "metadata": {}
        }
      ],
      "execution_count": 67,
      "metadata": {
        "jupyter": {
          "source_hidden": false,
          "outputs_hidden": false
        },
        "nteract": {
          "transient": {
            "deleting": false
          }
        },
        "gather": {
          "logged": 1649726024866
        }
      }
    },
    {
      "cell_type": "code",
      "source": [
        "# Criaçào de um constante obrigatória\r\n",
        "X2 = sm.add_constant(X)\r\n",
        "# Construção do modelo e treinamento\r\n",
        "est = sm.OLS(y, X2)\r\n",
        "est2 = est.fit()\r\n",
        "# Avaliação\r\n",
        "print(est2.summary())"
      ],
      "outputs": [
        {
          "output_type": "stream",
          "name": "stdout",
          "text": "                            OLS Regression Results                            \n==============================================================================\nDep. Variable:                     G3   R-squared:                       0.829\nModel:                            OLS   Adj. R-squared:                  0.827\nMethod:                 Least Squares   F-statistic:                     471.9\nDate:                Tue, 12 Apr 2022   Prob (F-statistic):          5.79e-148\nTime:                        01:25:31   Log-Likelihood:                -812.65\nNo. Observations:                 395   AIC:                             1635.\nDf Residuals:                     390   BIC:                             1655.\nDf Model:                           4                                         \nCovariance Type:            nonrobust                                         \n==============================================================================\n                 coef    std err          t      P>|t|      [0.025      0.975]\n------------------------------------------------------------------------------\nconst          1.0927      1.349      0.810      0.418      -1.560       3.745\nage           -0.1880      0.078     -2.420      0.016      -0.341      -0.035\nabsences       0.0415      0.012      3.405      0.001       0.018       0.065\nG1             0.1701      0.056      3.057      0.002       0.061       0.279\nG2             0.9679      0.049     19.555      0.000       0.871       1.065\n==============================================================================\nOmnibus:                      218.284   Durbin-Watson:                   1.863\nProb(Omnibus):                  0.000   Jarque-Bera (JB):             1294.139\nSkew:                          -2.385   Prob(JB):                    9.58e-282\nKurtosis:                      10.476   Cond. No.                         334.\n==============================================================================\n\nWarnings:\n[1] Standard Errors assume that the covariance matrix of the errors is correctly specified.\n"
        }
      ],
      "execution_count": 70,
      "metadata": {
        "jupyter": {
          "source_hidden": false,
          "outputs_hidden": false
        },
        "nteract": {
          "transient": {
            "deleting": false
          }
        },
        "gather": {
          "logged": 1649726732223
        }
      }
    },
    {
      "cell_type": "code",
      "source": [
        "RMSE = mean_squared_error(y_test,previsoes,squared=False) \r\n",
        "print('%.2f' % RMSE)"
      ],
      "outputs": [
        {
          "output_type": "stream",
          "name": "stdout",
          "text": "2.07\n"
        }
      ],
      "execution_count": 72,
      "metadata": {
        "jupyter": {
          "source_hidden": false,
          "outputs_hidden": false
        },
        "nteract": {
          "transient": {
            "deleting": false
          }
        },
        "gather": {
          "logged": 1649727381462
        }
      }
    }
  ],
  "metadata": {
    "kernelspec": {
      "name": "python3-azureml",
      "language": "python",
      "display_name": "Python 3.6 - AzureML"
    },
    "language_info": {
      "name": "python",
      "version": "3.6.9",
      "mimetype": "text/x-python",
      "codemirror_mode": {
        "name": "ipython",
        "version": 3
      },
      "pygments_lexer": "ipython3",
      "nbconvert_exporter": "python",
      "file_extension": ".py"
    },
    "kernel_info": {
      "name": "python3-azureml"
    },
    "nteract": {
      "version": "nteract-front-end@1.0.0"
    },
    "microsoft": {
      "host": {
        "AzureML": {
          "notebookHasBeenCompleted": true
        }
      }
    }
  },
  "nbformat": 4,
  "nbformat_minor": 2
}